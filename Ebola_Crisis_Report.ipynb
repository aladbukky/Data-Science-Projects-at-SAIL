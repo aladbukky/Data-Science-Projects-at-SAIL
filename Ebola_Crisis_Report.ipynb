{
  "nbformat": 4,
  "nbformat_minor": 0,
  "metadata": {
    "colab": {
      "provenance": [],
      "authorship_tag": "ABX9TyO36gpLNeTHCWAJDvZRHYul",
      "include_colab_link": true
    },
    "kernelspec": {
      "name": "ir",
      "display_name": "R"
    },
    "language_info": {
      "name": "R"
    }
  },
  "cells": [
    {
      "cell_type": "markdown",
      "metadata": {
        "id": "view-in-github",
        "colab_type": "text"
      },
      "source": [
        "<a href=\"https://colab.research.google.com/github/aladbukky/Data-Science-Projects-at-SAIL/blob/main/Ebola_Crisis_Report.ipynb\" target=\"_parent\"><img src=\"https://colab.research.google.com/assets/colab-badge.svg\" alt=\"Open In Colab\"/></a>"
      ]
    },
    {
      "cell_type": "code",
      "execution_count": null,
      "metadata": {
        "colab": {
          "base_uri": "https://localhost:8080/"
        },
        "collapsed": true,
        "id": "OxZJnVKpTtPl",
        "outputId": "57f2e984-fd8e-43b8-94b2-e693855b034e"
      },
      "outputs": [
        {
          "output_type": "stream",
          "name": "stderr",
          "text": [
            "Installing package into ‘/usr/local/lib/R/site-library’\n",
            "(as ‘lib’ is unspecified)\n",
            "\n",
            "also installing the dependency ‘snakecase’\n",
            "\n",
            "\n",
            "Installing package into ‘/usr/local/lib/R/site-library’\n",
            "(as ‘lib’ is unspecified)\n",
            "\n",
            "── \u001b[1mAttaching core tidyverse packages\u001b[22m ──────────────────────── tidyverse 2.0.0 ──\n",
            "\u001b[32m✔\u001b[39m \u001b[34mdplyr    \u001b[39m 1.1.4     \u001b[32m✔\u001b[39m \u001b[34mreadr    \u001b[39m 2.1.5\n",
            "\u001b[32m✔\u001b[39m \u001b[34mforcats  \u001b[39m 1.0.0     \u001b[32m✔\u001b[39m \u001b[34mstringr  \u001b[39m 1.5.1\n",
            "\u001b[32m✔\u001b[39m \u001b[34mggplot2  \u001b[39m 3.4.4     \u001b[32m✔\u001b[39m \u001b[34mtibble   \u001b[39m 3.2.1\n",
            "\u001b[32m✔\u001b[39m \u001b[34mlubridate\u001b[39m 1.9.3     \u001b[32m✔\u001b[39m \u001b[34mtidyr    \u001b[39m 1.3.1\n",
            "\u001b[32m✔\u001b[39m \u001b[34mpurrr    \u001b[39m 1.0.2     \n",
            "── \u001b[1mConflicts\u001b[22m ────────────────────────────────────────── tidyverse_conflicts() ──\n",
            "\u001b[31m✖\u001b[39m \u001b[34mpurrr\u001b[39m::\u001b[32m%||%()\u001b[39m   masks \u001b[34mbase\u001b[39m::%||%()\n",
            "\u001b[31m✖\u001b[39m \u001b[34mdplyr\u001b[39m::\u001b[32mfilter()\u001b[39m masks \u001b[34mstats\u001b[39m::filter()\n",
            "\u001b[31m✖\u001b[39m \u001b[34mdplyr\u001b[39m::\u001b[32mlag()\u001b[39m    masks \u001b[34mstats\u001b[39m::lag()\n",
            "\u001b[36mℹ\u001b[39m Use the conflicted package (\u001b[3m\u001b[34m<http://conflicted.r-lib.org/>\u001b[39m\u001b[23m) to force all conflicts to become errors\n",
            "\n",
            "Attaching package: ‘janitor’\n",
            "\n",
            "\n",
            "The following objects are masked from ‘package:stats’:\n",
            "\n",
            "    chisq.test, fisher.test\n",
            "\n",
            "\n"
          ]
        }
      ],
      "source": [
        "install.packages(\"janitor\")\n",
        "install.packages(\"tidyverse\")\n",
        "library(tidyverse)\n",
        "library(janitor)"
      ]
    },
    {
      "cell_type": "code",
      "source": [
        "#load the data set\n",
        "ebola_sierra <- read.csv(\"/ebola_sierra_leone.csv\")\n",
        "ebola_sierra <- as.data.frame(ebola_sierra)\n",
        "head(ebola_sierra)# view in tabular form"
      ],
      "metadata": {
        "colab": {
          "base_uri": "https://localhost:8080/",
          "height": 286
        },
        "id": "sMzYgByjXhK7",
        "outputId": "450eeb8e-7738-4f20-c5d1-480b8feaf25d"
      },
      "execution_count": null,
      "outputs": [
        {
          "output_type": "display_data",
          "data": {
            "text/html": [
              "<table class=\"dataframe\">\n",
              "<caption>A data.frame: 6 × 7</caption>\n",
              "<thead>\n",
              "\t<tr><th></th><th scope=col>id</th><th scope=col>age</th><th scope=col>sex</th><th scope=col>status</th><th scope=col>date_of_onset</th><th scope=col>date_of_sample</th><th scope=col>district</th></tr>\n",
              "\t<tr><th></th><th scope=col>&lt;int&gt;</th><th scope=col>&lt;dbl&gt;</th><th scope=col>&lt;chr&gt;</th><th scope=col>&lt;chr&gt;</th><th scope=col>&lt;chr&gt;</th><th scope=col>&lt;chr&gt;</th><th scope=col>&lt;chr&gt;</th></tr>\n",
              "</thead>\n",
              "<tbody>\n",
              "\t<tr><th scope=row>1</th><td> 92</td><td> 6</td><td>M</td><td>confirmed</td><td>2014-06-10</td><td>2014-06-15</td><td>Kailahun</td></tr>\n",
              "\t<tr><th scope=row>2</th><td> 51</td><td>46</td><td>F</td><td>confirmed</td><td>2014-05-30</td><td>2014-06-04</td><td>Kailahun</td></tr>\n",
              "\t<tr><th scope=row>3</th><td>230</td><td>NA</td><td>M</td><td>confirmed</td><td>2014-06-26</td><td>2014-06-30</td><td>Kenema  </td></tr>\n",
              "\t<tr><th scope=row>4</th><td>139</td><td>25</td><td>F</td><td>confirmed</td><td>2014-06-13</td><td>2014-06-18</td><td>Kailahun</td></tr>\n",
              "\t<tr><th scope=row>5</th><td>  8</td><td> 8</td><td>F</td><td>confirmed</td><td>2014-05-22</td><td>2014-05-27</td><td>Kailahun</td></tr>\n",
              "\t<tr><th scope=row>6</th><td>215</td><td>49</td><td>M</td><td>confirmed</td><td>2014-06-24</td><td>2014-06-29</td><td>Kailahun</td></tr>\n",
              "</tbody>\n",
              "</table>\n"
            ],
            "text/markdown": "\nA data.frame: 6 × 7\n\n| <!--/--> | id &lt;int&gt; | age &lt;dbl&gt; | sex &lt;chr&gt; | status &lt;chr&gt; | date_of_onset &lt;chr&gt; | date_of_sample &lt;chr&gt; | district &lt;chr&gt; |\n|---|---|---|---|---|---|---|---|\n| 1 |  92 |  6 | M | confirmed | 2014-06-10 | 2014-06-15 | Kailahun |\n| 2 |  51 | 46 | F | confirmed | 2014-05-30 | 2014-06-04 | Kailahun |\n| 3 | 230 | NA | M | confirmed | 2014-06-26 | 2014-06-30 | Kenema   |\n| 4 | 139 | 25 | F | confirmed | 2014-06-13 | 2014-06-18 | Kailahun |\n| 5 |   8 |  8 | F | confirmed | 2014-05-22 | 2014-05-27 | Kailahun |\n| 6 | 215 | 49 | M | confirmed | 2014-06-24 | 2014-06-29 | Kailahun |\n\n",
            "text/latex": "A data.frame: 6 × 7\n\\begin{tabular}{r|lllllll}\n  & id & age & sex & status & date\\_of\\_onset & date\\_of\\_sample & district\\\\\n  & <int> & <dbl> & <chr> & <chr> & <chr> & <chr> & <chr>\\\\\n\\hline\n\t1 &  92 &  6 & M & confirmed & 2014-06-10 & 2014-06-15 & Kailahun\\\\\n\t2 &  51 & 46 & F & confirmed & 2014-05-30 & 2014-06-04 & Kailahun\\\\\n\t3 & 230 & NA & M & confirmed & 2014-06-26 & 2014-06-30 & Kenema  \\\\\n\t4 & 139 & 25 & F & confirmed & 2014-06-13 & 2014-06-18 & Kailahun\\\\\n\t5 &   8 &  8 & F & confirmed & 2014-05-22 & 2014-05-27 & Kailahun\\\\\n\t6 & 215 & 49 & M & confirmed & 2014-06-24 & 2014-06-29 & Kailahun\\\\\n\\end{tabular}\n",
            "text/plain": [
              "  id  age sex status    date_of_onset date_of_sample district\n",
              "1  92  6  M   confirmed 2014-06-10    2014-06-15     Kailahun\n",
              "2  51 46  F   confirmed 2014-05-30    2014-06-04     Kailahun\n",
              "3 230 NA  M   confirmed 2014-06-26    2014-06-30     Kenema  \n",
              "4 139 25  F   confirmed 2014-06-13    2014-06-18     Kailahun\n",
              "5   8  8  F   confirmed 2014-05-22    2014-05-27     Kailahun\n",
              "6 215 49  M   confirmed 2014-06-24    2014-06-29     Kailahun"
            ]
          },
          "metadata": {}
        }
      ]
    },
    {
      "cell_type": "code",
      "source": [
        "dim(ebola_sierra)"
      ],
      "metadata": {
        "colab": {
          "base_uri": "https://localhost:8080/",
          "height": 34
        },
        "id": "I92FebMJf70v",
        "outputId": "eab49956-3df2-4bb6-cf25-8d5d94f71e1c"
      },
      "execution_count": null,
      "outputs": [
        {
          "output_type": "display_data",
          "data": {
            "text/html": [
              "<style>\n",
              ".list-inline {list-style: none; margin:0; padding: 0}\n",
              ".list-inline>li {display: inline-block}\n",
              ".list-inline>li:not(:last-child)::after {content: \"\\00b7\"; padding: 0 .5ex}\n",
              "</style>\n",
              "<ol class=list-inline><li>200</li><li>7</li></ol>\n"
            ],
            "text/markdown": "1. 200\n2. 7\n\n\n",
            "text/latex": "\\begin{enumerate*}\n\\item 200\n\\item 7\n\\end{enumerate*}\n",
            "text/plain": [
              "[1] 200   7"
            ]
          },
          "metadata": {}
        }
      ]
    },
    {
      "cell_type": "code",
      "source": [
        "glimpse(ebola_sierra)"
      ],
      "metadata": {
        "colab": {
          "base_uri": "https://localhost:8080/"
        },
        "id": "cxq95Ev2gCGC",
        "outputId": "1987955c-bb6e-4d0c-b0d8-ed10c3979ab0"
      },
      "execution_count": null,
      "outputs": [
        {
          "output_type": "stream",
          "name": "stdout",
          "text": [
            "Rows: 200\n",
            "Columns: 7\n",
            "$ id             \u001b[3m\u001b[90m<int>\u001b[39m\u001b[23m 92, 51, 230, 139, 8, 215, 189, 115, 218, 159, 119, 248,…\n",
            "$ age            \u001b[3m\u001b[90m<dbl>\u001b[39m\u001b[23m 6, 46, NA, 25, 8, 49, 13, 50, 35, 38, 60, 18, 10, 14, 5…\n",
            "$ sex            \u001b[3m\u001b[90m<chr>\u001b[39m\u001b[23m \"M\", \"F\", \"M\", \"F\", \"F\", \"M\", \"F\", \"M\", \"F\", \"F\", \"F\", …\n",
            "$ status         \u001b[3m\u001b[90m<chr>\u001b[39m\u001b[23m \"confirmed\", \"confirmed\", \"confirmed\", \"confirmed\", \"co…\n",
            "$ date_of_onset  \u001b[3m\u001b[90m<chr>\u001b[39m\u001b[23m \"2014-06-10\", \"2014-05-30\", \"2014-06-26\", \"2014-06-13\",…\n",
            "$ date_of_sample \u001b[3m\u001b[90m<chr>\u001b[39m\u001b[23m \"2014-06-15\", \"2014-06-04\", \"2014-06-30\", \"2014-06-18\",…\n",
            "$ district       \u001b[3m\u001b[90m<chr>\u001b[39m\u001b[23m \"Kailahun\", \"Kailahun\", \"Kenema\", \"Kailahun\", \"Kailahun…\n"
          ]
        }
      ]
    },
    {
      "cell_type": "code",
      "source": [
        "summary(ebola_sierra)"
      ],
      "metadata": {
        "colab": {
          "base_uri": "https://localhost:8080/",
          "height": 295
        },
        "id": "ygQXnchigTyA",
        "outputId": "790fe5c3-74b4-45b1-8d9c-84efb2d18132"
      },
      "execution_count": null,
      "outputs": [
        {
          "output_type": "display_data",
          "data": {
            "text/plain": [
              "       id              age            sex               status         \n",
              " Min.   :  1.00   Min.   : 1.80   Length:200         Length:200        \n",
              " 1st Qu.: 62.75   1st Qu.:20.00   Class :character   Class :character  \n",
              " Median :131.50   Median :35.00   Mode  :character   Mode  :character  \n",
              " Mean   :136.72   Mean   :33.85                                        \n",
              " 3rd Qu.:208.25   3rd Qu.:45.00                                        \n",
              " Max.   :285.00   Max.   :80.00                                        \n",
              "                  NA's   :4                                            \n",
              " date_of_onset      date_of_sample       district        \n",
              " Length:200         Length:200         Length:200        \n",
              " Class :character   Class :character   Class :character  \n",
              " Mode  :character   Mode  :character   Mode  :character  \n",
              "                                                         \n",
              "                                                         \n",
              "                                                         \n",
              "                                                         "
            ]
          },
          "metadata": {}
        }
      ]
    },
    {
      "cell_type": "code",
      "source": [
        "names(ebola_sierra)# get the names of the columns of the data set"
      ],
      "metadata": {
        "colab": {
          "base_uri": "https://localhost:8080/",
          "height": 34
        },
        "id": "5Is2AIHKgZ7s",
        "outputId": "29eb64bd-b2b3-404a-9214-87af7887e57a"
      },
      "execution_count": null,
      "outputs": [
        {
          "output_type": "display_data",
          "data": {
            "text/html": [
              "<style>\n",
              ".list-inline {list-style: none; margin:0; padding: 0}\n",
              ".list-inline>li {display: inline-block}\n",
              ".list-inline>li:not(:last-child)::after {content: \"\\00b7\"; padding: 0 .5ex}\n",
              "</style>\n",
              "<ol class=list-inline><li>'id'</li><li>'age'</li><li>'sex'</li><li>'status'</li><li>'date_of_onset'</li><li>'date_of_sample'</li><li>'district'</li></ol>\n"
            ],
            "text/markdown": "1. 'id'\n2. 'age'\n3. 'sex'\n4. 'status'\n5. 'date_of_onset'\n6. 'date_of_sample'\n7. 'district'\n\n\n",
            "text/latex": "\\begin{enumerate*}\n\\item 'id'\n\\item 'age'\n\\item 'sex'\n\\item 'status'\n\\item 'date\\_of\\_onset'\n\\item 'date\\_of\\_sample'\n\\item 'district'\n\\end{enumerate*}\n",
            "text/plain": [
              "[1] \"id\"             \"age\"            \"sex\"            \"status\"        \n",
              "[5] \"date_of_onset\"  \"date_of_sample\" \"district\"      "
            ]
          },
          "metadata": {}
        }
      ]
    },
    {
      "cell_type": "code",
      "source": [
        "#Cleaning the data set\n",
        "#Viewing the summary shows that the age column has 4 missing values. It has reveals that the\n",
        "#date column is not in appropriate format.\n",
        "\n",
        "#One way to clean the age column is to replace the missing value with the median age of the column,\n",
        "#wich is usually unaffected by outlier and to preserve the dataset observations, given the NAs is small.\n",
        "median_age <- median(ebola_sierra$age, na.rm = TRUE)\n",
        "median_age\n"
      ],
      "metadata": {
        "colab": {
          "base_uri": "https://localhost:8080/",
          "height": 34
        },
        "id": "Cozx1dVvgk97",
        "outputId": "ef2d42d6-b2ea-42b4-9c1b-0091605352a8"
      },
      "execution_count": null,
      "outputs": [
        {
          "output_type": "display_data",
          "data": {
            "text/html": [
              "35"
            ],
            "text/markdown": "35",
            "text/latex": "35",
            "text/plain": [
              "[1] 35"
            ]
          },
          "metadata": {}
        }
      ]
    },
    {
      "cell_type": "code",
      "source": [
        "ebola_sierra$age[is.na(ebola_sierra$age)] <- median_age\n",
        "#confirming if na's have been removed\n",
        "any(is.na(ebola_sierra$age))\n",
        "any(is.na(ebola_sierra))\n"
      ],
      "metadata": {
        "colab": {
          "base_uri": "https://localhost:8080/",
          "height": 52
        },
        "id": "4akxqe6WgudH",
        "outputId": "feed7b25-9638-43ab-f97f-2ef5bb968c06"
      },
      "execution_count": null,
      "outputs": [
        {
          "output_type": "display_data",
          "data": {
            "text/html": [
              "FALSE"
            ],
            "text/markdown": "FALSE",
            "text/latex": "FALSE",
            "text/plain": [
              "[1] FALSE"
            ]
          },
          "metadata": {}
        },
        {
          "output_type": "display_data",
          "data": {
            "text/html": [
              "FALSE"
            ],
            "text/markdown": "FALSE",
            "text/latex": "FALSE",
            "text/plain": [
              "[1] FALSE"
            ]
          },
          "metadata": {}
        }
      ]
    },
    {
      "cell_type": "code",
      "source": [
        "#convert the date column from character format to date format\n",
        "\n",
        "ebola_sierra$date_of_onset <- as.Date(ebola_sierra$date_of_onset, format = \"%Y-%m-%d\")\n",
        "ebola_sierra$date_of_sample <- as.Date(ebola_sierra$date_of_sample, format = \"%Y-%m-%d\")\n",
        "str(ebola_sierra)\n"
      ],
      "metadata": {
        "colab": {
          "base_uri": "https://localhost:8080/"
        },
        "id": "yy1NqSmBg8xF",
        "outputId": "5875d119-9b59-46d0-f6cc-7b98df05e13e"
      },
      "execution_count": null,
      "outputs": [
        {
          "output_type": "stream",
          "name": "stdout",
          "text": [
            "'data.frame':\t200 obs. of  7 variables:\n",
            " $ id            : int  92 51 230 139 8 215 189 115 218 159 ...\n",
            " $ age           : num  6 46 35 25 8 49 13 50 35 38 ...\n",
            " $ sex           : chr  \"M\" \"F\" \"M\" \"F\" ...\n",
            " $ status        : chr  \"confirmed\" \"confirmed\" \"confirmed\" \"confirmed\" ...\n",
            " $ date_of_onset : Date, format: \"2014-06-10\" \"2014-05-30\" ...\n",
            " $ date_of_sample: Date, format: \"2014-06-15\" \"2014-06-04\" ...\n",
            " $ district      : chr  \"Kailahun\" \"Kailahun\" \"Kenema\" \"Kailahun\" ...\n"
          ]
        }
      ]
    },
    {
      "cell_type": "code",
      "source": [
        "#get the minimum and maximum age in the data set from the\n",
        "ebola_sierra[which.min(ebola_sierra$age),]\n",
        "ebola_sierra[which.max(ebola_sierra$age),]\n"
      ],
      "metadata": {
        "colab": {
          "base_uri": "https://localhost:8080/",
          "height": 242
        },
        "id": "f5TLBzrPhWo3",
        "outputId": "47610417-6868-4ed9-b484-3d9aa2f8a93c"
      },
      "execution_count": null,
      "outputs": [
        {
          "output_type": "display_data",
          "data": {
            "text/html": [
              "<table class=\"dataframe\">\n",
              "<caption>A data.frame: 1 × 7</caption>\n",
              "<thead>\n",
              "\t<tr><th></th><th scope=col>id</th><th scope=col>age</th><th scope=col>sex</th><th scope=col>status</th><th scope=col>date_of_onset</th><th scope=col>date_of_sample</th><th scope=col>district</th></tr>\n",
              "\t<tr><th></th><th scope=col>&lt;int&gt;</th><th scope=col>&lt;dbl&gt;</th><th scope=col>&lt;chr&gt;</th><th scope=col>&lt;chr&gt;</th><th scope=col>&lt;date&gt;</th><th scope=col>&lt;date&gt;</th><th scope=col>&lt;chr&gt;</th></tr>\n",
              "</thead>\n",
              "<tbody>\n",
              "\t<tr><th scope=row>107</th><td>31</td><td>1.8</td><td>F</td><td>suspected</td><td>2014-05-27</td><td>2014-06-01</td><td>Kailahun</td></tr>\n",
              "</tbody>\n",
              "</table>\n"
            ],
            "text/markdown": "\nA data.frame: 1 × 7\n\n| <!--/--> | id &lt;int&gt; | age &lt;dbl&gt; | sex &lt;chr&gt; | status &lt;chr&gt; | date_of_onset &lt;date&gt; | date_of_sample &lt;date&gt; | district &lt;chr&gt; |\n|---|---|---|---|---|---|---|---|\n| 107 | 31 | 1.8 | F | suspected | 2014-05-27 | 2014-06-01 | Kailahun |\n\n",
            "text/latex": "A data.frame: 1 × 7\n\\begin{tabular}{r|lllllll}\n  & id & age & sex & status & date\\_of\\_onset & date\\_of\\_sample & district\\\\\n  & <int> & <dbl> & <chr> & <chr> & <date> & <date> & <chr>\\\\\n\\hline\n\t107 & 31 & 1.8 & F & suspected & 2014-05-27 & 2014-06-01 & Kailahun\\\\\n\\end{tabular}\n",
            "text/plain": [
              "    id age sex status    date_of_onset date_of_sample district\n",
              "107 31 1.8 F   suspected 2014-05-27    2014-06-01     Kailahun"
            ]
          },
          "metadata": {}
        },
        {
          "output_type": "display_data",
          "data": {
            "text/html": [
              "<table class=\"dataframe\">\n",
              "<caption>A data.frame: 1 × 7</caption>\n",
              "<thead>\n",
              "\t<tr><th></th><th scope=col>id</th><th scope=col>age</th><th scope=col>sex</th><th scope=col>status</th><th scope=col>date_of_onset</th><th scope=col>date_of_sample</th><th scope=col>district</th></tr>\n",
              "\t<tr><th></th><th scope=col>&lt;int&gt;</th><th scope=col>&lt;dbl&gt;</th><th scope=col>&lt;chr&gt;</th><th scope=col>&lt;chr&gt;</th><th scope=col>&lt;date&gt;</th><th scope=col>&lt;date&gt;</th><th scope=col>&lt;chr&gt;</th></tr>\n",
              "</thead>\n",
              "<tbody>\n",
              "\t<tr><th scope=row>175</th><td>82</td><td>80</td><td>F</td><td>confirmed</td><td>2014-06-08</td><td>2014-06-13</td><td>Kailahun</td></tr>\n",
              "</tbody>\n",
              "</table>\n"
            ],
            "text/markdown": "\nA data.frame: 1 × 7\n\n| <!--/--> | id &lt;int&gt; | age &lt;dbl&gt; | sex &lt;chr&gt; | status &lt;chr&gt; | date_of_onset &lt;date&gt; | date_of_sample &lt;date&gt; | district &lt;chr&gt; |\n|---|---|---|---|---|---|---|---|\n| 175 | 82 | 80 | F | confirmed | 2014-06-08 | 2014-06-13 | Kailahun |\n\n",
            "text/latex": "A data.frame: 1 × 7\n\\begin{tabular}{r|lllllll}\n  & id & age & sex & status & date\\_of\\_onset & date\\_of\\_sample & district\\\\\n  & <int> & <dbl> & <chr> & <chr> & <date> & <date> & <chr>\\\\\n\\hline\n\t175 & 82 & 80 & F & confirmed & 2014-06-08 & 2014-06-13 & Kailahun\\\\\n\\end{tabular}\n",
            "text/plain": [
              "    id age sex status    date_of_onset date_of_sample district\n",
              "175 82 80  F   confirmed 2014-06-08    2014-06-13     Kailahun"
            ]
          },
          "metadata": {}
        }
      ]
    },
    {
      "cell_type": "code",
      "source": [
        "#get the mean age of the female and male in the data set\n",
        "mean(ebola_sierra$age[ebola_sierra$sex == \"F\"])\n",
        "mean(ebola_sierra$age[ebola_sierra$sex == \"M\"])\n"
      ],
      "metadata": {
        "colab": {
          "base_uri": "https://localhost:8080/",
          "height": 52
        },
        "id": "0pNETtMNhfat",
        "outputId": "43464faa-0428-4e94-adb9-e97bd4c2c87b"
      },
      "execution_count": null,
      "outputs": [
        {
          "output_type": "display_data",
          "data": {
            "text/html": [
              "34.0947368421053"
            ],
            "text/markdown": "34.0947368421053",
            "text/latex": "34.0947368421053",
            "text/plain": [
              "[1] 34.09474"
            ]
          },
          "metadata": {}
        },
        {
          "output_type": "display_data",
          "data": {
            "text/html": [
              "33.5697674418605"
            ],
            "text/markdown": "33.5697674418605",
            "text/latex": "33.5697674418605",
            "text/plain": [
              "[1] 33.56977"
            ]
          },
          "metadata": {}
        }
      ]
    },
    {
      "cell_type": "code",
      "source": [
        "#get the earliest time date of onset, the earliest date of discovery of the disease symptom and the latest of this data set\n",
        "\n",
        "#min(ebola_sierra$date_of_onset)\n",
        "#min(ebola_sierra$date_of_sample)\n",
        "ebola_sierra[which.min(ebola_sierra$date_of_onset),]\n",
        "ebola_sierra[which.max(ebola_sierra$date_of_sample),]\n"
      ],
      "metadata": {
        "colab": {
          "base_uri": "https://localhost:8080/",
          "height": 242
        },
        "id": "gnT3a3f3hlIu",
        "outputId": "89d47e8e-d7a8-496a-d064-d9f30638d898"
      },
      "execution_count": null,
      "outputs": [
        {
          "output_type": "display_data",
          "data": {
            "text/html": [
              "<table class=\"dataframe\">\n",
              "<caption>A data.frame: 1 × 7</caption>\n",
              "<thead>\n",
              "\t<tr><th></th><th scope=col>id</th><th scope=col>age</th><th scope=col>sex</th><th scope=col>status</th><th scope=col>date_of_onset</th><th scope=col>date_of_sample</th><th scope=col>district</th></tr>\n",
              "\t<tr><th></th><th scope=col>&lt;int&gt;</th><th scope=col>&lt;dbl&gt;</th><th scope=col>&lt;chr&gt;</th><th scope=col>&lt;chr&gt;</th><th scope=col>&lt;date&gt;</th><th scope=col>&lt;date&gt;</th><th scope=col>&lt;chr&gt;</th></tr>\n",
              "</thead>\n",
              "<tbody>\n",
              "\t<tr><th scope=row>177</th><td>1</td><td>20</td><td>F</td><td>confirmed</td><td>2014-05-18</td><td>2014-05-23</td><td>Kailahun</td></tr>\n",
              "</tbody>\n",
              "</table>\n"
            ],
            "text/markdown": "\nA data.frame: 1 × 7\n\n| <!--/--> | id &lt;int&gt; | age &lt;dbl&gt; | sex &lt;chr&gt; | status &lt;chr&gt; | date_of_onset &lt;date&gt; | date_of_sample &lt;date&gt; | district &lt;chr&gt; |\n|---|---|---|---|---|---|---|---|\n| 177 | 1 | 20 | F | confirmed | 2014-05-18 | 2014-05-23 | Kailahun |\n\n",
            "text/latex": "A data.frame: 1 × 7\n\\begin{tabular}{r|lllllll}\n  & id & age & sex & status & date\\_of\\_onset & date\\_of\\_sample & district\\\\\n  & <int> & <dbl> & <chr> & <chr> & <date> & <date> & <chr>\\\\\n\\hline\n\t177 & 1 & 20 & F & confirmed & 2014-05-18 & 2014-05-23 & Kailahun\\\\\n\\end{tabular}\n",
            "text/plain": [
              "    id age sex status    date_of_onset date_of_sample district\n",
              "177 1  20  F   confirmed 2014-05-18    2014-05-23     Kailahun"
            ]
          },
          "metadata": {}
        },
        {
          "output_type": "display_data",
          "data": {
            "text/html": [
              "<table class=\"dataframe\">\n",
              "<caption>A data.frame: 1 × 7</caption>\n",
              "<thead>\n",
              "\t<tr><th></th><th scope=col>id</th><th scope=col>age</th><th scope=col>sex</th><th scope=col>status</th><th scope=col>date_of_onset</th><th scope=col>date_of_sample</th><th scope=col>district</th></tr>\n",
              "\t<tr><th></th><th scope=col>&lt;int&gt;</th><th scope=col>&lt;dbl&gt;</th><th scope=col>&lt;chr&gt;</th><th scope=col>&lt;chr&gt;</th><th scope=col>&lt;date&gt;</th><th scope=col>&lt;date&gt;</th><th scope=col>&lt;chr&gt;</th></tr>\n",
              "</thead>\n",
              "<tbody>\n",
              "\t<tr><th scope=row>54</th><td>226</td><td>14</td><td>F</td><td>confirmed</td><td>2014-06-25</td><td>2014-07-17</td><td>Kailahun</td></tr>\n",
              "</tbody>\n",
              "</table>\n"
            ],
            "text/markdown": "\nA data.frame: 1 × 7\n\n| <!--/--> | id &lt;int&gt; | age &lt;dbl&gt; | sex &lt;chr&gt; | status &lt;chr&gt; | date_of_onset &lt;date&gt; | date_of_sample &lt;date&gt; | district &lt;chr&gt; |\n|---|---|---|---|---|---|---|---|\n| 54 | 226 | 14 | F | confirmed | 2014-06-25 | 2014-07-17 | Kailahun |\n\n",
            "text/latex": "A data.frame: 1 × 7\n\\begin{tabular}{r|lllllll}\n  & id & age & sex & status & date\\_of\\_onset & date\\_of\\_sample & district\\\\\n  & <int> & <dbl> & <chr> & <chr> & <date> & <date> & <chr>\\\\\n\\hline\n\t54 & 226 & 14 & F & confirmed & 2014-06-25 & 2014-07-17 & Kailahun\\\\\n\\end{tabular}\n",
            "text/plain": [
              "   id  age sex status    date_of_onset date_of_sample district\n",
              "54 226 14  F   confirmed 2014-06-25    2014-07-17     Kailahun"
            ]
          },
          "metadata": {}
        }
      ]
    },
    {
      "cell_type": "code",
      "source": [
        "#plot the age distribution of the data set\n",
        "age_freq <- ggplot(ebola_sierra, aes(x = age))\n",
        "age_freq + geom_histogram(binwidth = 5,\n",
        "                          fill =\"red4\",\n",
        "                          colour =\"darkgrey\")+\n",
        "  ggtitle(\"Age Frequency Distribution\")+\n",
        "  theme_classic()+\n",
        "  labs(x = \"Age\", y =\"Frequency\")\n"
      ],
      "metadata": {
        "colab": {
          "base_uri": "https://localhost:8080/",
          "height": 437
        },
        "id": "cDoBbQKchrA8",
        "outputId": "2c9a86fa-a2c1-41ef-82d0-19940eab9c86"
      },
      "execution_count": null,
      "outputs": [
        {
          "output_type": "display_data",
          "data": {
            "text/plain": [
              "plot without title"
            ],
            "image/png": "[encoded data removed]"
          },
          "metadata": {
            "image/png": {
              "width": 420,
              "height": 420
            }
          }
        }
      ]
    },
    {
      "cell_type": "code",
      "source": [
        "#get the frequency of status by their sex\n",
        "\n",
        "sex_status_count <- ebola_sierra %>%\n",
        "  tabyl(sex, status) %>%\n",
        "  adorn_totals(c(\"row\", \"col\")) %>%\n",
        "  adorn_percentages(\"all\") %>%\n",
        "  adorn_pct_formatting(digits = 1) %>%\n",
        "  adorn_ns(position = \"front\")\n",
        "  sex_status_count\n"
      ],
      "metadata": {
        "colab": {
          "base_uri": "https://localhost:8080/",
          "height": 192
        },
        "id": "e3AVcxX6hycJ",
        "outputId": "56758c04-a716-4548-a183-207ed196e2f4"
      },
      "execution_count": null,
      "outputs": [
        {
          "output_type": "display_data",
          "data": {
            "text/html": [
              "<table class=\"dataframe\">\n",
              "<caption>A tabyl: 3 × 4</caption>\n",
              "<thead>\n",
              "\t<tr><th></th><th scope=col>sex</th><th scope=col>confirmed</th><th scope=col>suspected</th><th scope=col>Total</th></tr>\n",
              "\t<tr><th></th><th scope=col>&lt;chr&gt;</th><th scope=col>&lt;chr&gt;</th><th scope=col>&lt;chr&gt;</th><th scope=col>&lt;chr&gt;</th></tr>\n",
              "</thead>\n",
              "<tbody>\n",
              "\t<tr><th scope=row>1</th><td>F    </td><td>102 (51.0%)</td><td>12 (6.0%)</td><td>114  (57.0%)</td></tr>\n",
              "\t<tr><th scope=row>2</th><td>M    </td><td>80 (40.0%) </td><td>6 (3.0%) </td><td>86  (43.0%) </td></tr>\n",
              "\t<tr><th scope=row>3</th><td>Total</td><td>182 (91.0%)</td><td>18 (9.0%)</td><td>200 (100.0%)</td></tr>\n",
              "</tbody>\n",
              "</table>\n"
            ],
            "text/markdown": "\nA tabyl: 3 × 4\n\n| <!--/--> | sex &lt;chr&gt; | confirmed &lt;chr&gt; | suspected &lt;chr&gt; | Total &lt;chr&gt; |\n|---|---|---|---|---|\n| 1 | F     | 102 (51.0%) | 12 (6.0%) | 114  (57.0%) |\n| 2 | M     | 80 (40.0%)  | 6 (3.0%)  | 86  (43.0%)  |\n| 3 | Total | 182 (91.0%) | 18 (9.0%) | 200 (100.0%) |\n\n",
            "text/latex": "A tabyl: 3 × 4\n\\begin{tabular}{r|llll}\n  & sex & confirmed & suspected & Total\\\\\n  & <chr> & <chr> & <chr> & <chr>\\\\\n\\hline\n\t1 & F     & 102 (51.0\\%) & 12 (6.0\\%) & 114  (57.0\\%)\\\\\n\t2 & M     & 80 (40.0\\%)  & 6 (3.0\\%)  & 86  (43.0\\%) \\\\\n\t3 & Total & 182 (91.0\\%) & 18 (9.0\\%) & 200 (100.0\\%)\\\\\n\\end{tabular}\n",
            "text/plain": [
              "  sex   confirmed   suspected Total       \n",
              "1 F     102 (51.0%) 12 (6.0%) 114  (57.0%)\n",
              "2 M     80 (40.0%)  6 (3.0%)  86  (43.0%) \n",
              "3 Total 182 (91.0%) 18 (9.0%) 200 (100.0%)"
            ]
          },
          "metadata": {}
        }
      ]
    },
    {
      "cell_type": "code",
      "source": [
        "#export the table for report\n",
        "#write.csv(sex_status_count, \"Reports/sex_status_count.csv\",\n",
        " #         row.names = F)\n",
        "\n"
      ],
      "metadata": {
        "id": "A1affX62h7fW"
      },
      "execution_count": null,
      "outputs": []
    },
    {
      "cell_type": "code",
      "source": [
        "  #plot graph of the sex by status count\n",
        "  ggplot(ebola_sierra, aes(x= sex, fill = status)) +\n",
        "    geom_bar(position = \"dodge\")+\n",
        "    labs(title = \"Count of Status by Sex\", x = \"Sex\", y = \"Count\", fill = \"Status\") +\n",
        "    theme_minimal()\n"
      ],
      "metadata": {
        "colab": {
          "base_uri": "https://localhost:8080/",
          "height": 437
        },
        "id": "XUBnwybOiBvW",
        "outputId": "fbdb440a-026f-4f98-f258-88342de2f353"
      },
      "execution_count": null,
      "outputs": [
        {
          "output_type": "display_data",
          "data": {
            "text/plain": [
              "plot without title"
            ],
            "image/png": "[encoded data removed]"
          },
          "metadata": {
            "image/png": {
              "width": 420,
              "height": 420
            }
          }
        }
      ]
    },
    {
      "cell_type": "code",
      "source": [
        "#get the district count\n",
        "district_count <- ebola_sierra %>%\n",
        "  tabyl(district) %>%\n",
        "  adorn_pct_formatting(digits = 0) %>%\n",
        "  arrange(desc(n))\n",
        "district_count\n"
      ],
      "metadata": {
        "colab": {
          "base_uri": "https://localhost:8080/",
          "height": 318
        },
        "id": "6MXtJIo5iITL",
        "outputId": "35235970-7642-423f-f52f-2aa7febaeb45"
      },
      "execution_count": null,
      "outputs": [
        {
          "output_type": "display_data",
          "data": {
            "text/html": [
              "<table class=\"dataframe\">\n",
              "<caption>A tabyl: 7 × 3</caption>\n",
              "<thead>\n",
              "\t<tr><th scope=col>district</th><th scope=col>n</th><th scope=col>percent</th></tr>\n",
              "\t<tr><th scope=col>&lt;chr&gt;</th><th scope=col>&lt;dbl&gt;</th><th scope=col>&lt;chr&gt;</th></tr>\n",
              "</thead>\n",
              "<tbody>\n",
              "\t<tr><td>Kailahun     </td><td>155</td><td>78%</td></tr>\n",
              "\t<tr><td>Kenema       </td><td> 34</td><td>17%</td></tr>\n",
              "\t<tr><td>Western Urban</td><td>  4</td><td>2% </td></tr>\n",
              "\t<tr><td>Bo           </td><td>  2</td><td>1% </td></tr>\n",
              "\t<tr><td>Kono         </td><td>  2</td><td>1% </td></tr>\n",
              "\t<tr><td>Port Loko    </td><td>  2</td><td>1% </td></tr>\n",
              "\t<tr><td>Kambia       </td><td>  1</td><td>0% </td></tr>\n",
              "</tbody>\n",
              "</table>\n"
            ],
            "text/markdown": "\nA tabyl: 7 × 3\n\n| district &lt;chr&gt; | n &lt;dbl&gt; | percent &lt;chr&gt; |\n|---|---|---|\n| Kailahun      | 155 | 78% |\n| Kenema        |  34 | 17% |\n| Western Urban |   4 | 2%  |\n| Bo            |   2 | 1%  |\n| Kono          |   2 | 1%  |\n| Port Loko     |   2 | 1%  |\n| Kambia        |   1 | 0%  |\n\n",
            "text/latex": "A tabyl: 7 × 3\n\\begin{tabular}{lll}\n district & n & percent\\\\\n <chr> & <dbl> & <chr>\\\\\n\\hline\n\t Kailahun      & 155 & 78\\%\\\\\n\t Kenema        &  34 & 17\\%\\\\\n\t Western Urban &   4 & 2\\% \\\\\n\t Bo            &   2 & 1\\% \\\\\n\t Kono          &   2 & 1\\% \\\\\n\t Port Loko     &   2 & 1\\% \\\\\n\t Kambia        &   1 & 0\\% \\\\\n\\end{tabular}\n",
            "text/plain": [
              "  district      n   percent\n",
              "1 Kailahun      155 78%    \n",
              "2 Kenema         34 17%    \n",
              "3 Western Urban   4 2%     \n",
              "4 Bo              2 1%     \n",
              "5 Kono            2 1%     \n",
              "6 Port Loko       2 1%     \n",
              "7 Kambia          1 0%     "
            ]
          },
          "metadata": {}
        }
      ]
    },
    {
      "cell_type": "code",
      "source": [
        "#export the district_count table for report\n",
        "#write.csv(district_count, \"Reports/district_count.csv\",\n",
        " #         row.names = F)\n"
      ],
      "metadata": {
        "id": "pP0jke6IiOm2"
      },
      "execution_count": null,
      "outputs": []
    },
    {
      "cell_type": "code",
      "source": [
        "#plot district count\n",
        "ggplot(district_count, aes(x = reorder(district, n), y= n)) +\n",
        "         geom_bar(stat =\"identity\", fill =\"steelblue\")+\n",
        "         labs(title = \"Frequency of Districts\", x= \"District\" , y = \"Frequency\")+\n",
        "  theme_minimal()+\n",
        "  theme(axis.text.x = element_text(angle = 45,\n",
        "                                   hjust = 1))\n",
        "\n"
      ],
      "metadata": {
        "colab": {
          "base_uri": "https://localhost:8080/",
          "height": 437
        },
        "id": "dg4TammRiVq2",
        "outputId": "864ae0ea-9b70-4063-f6d1-d603d89322b6"
      },
      "execution_count": null,
      "outputs": [
        {
          "output_type": "display_data",
          "data": {
            "text/plain": [
              "plot without title"
            ],
            "image/png": "[encoded data removed]"
          },
          "metadata": {
            "image/png": {
              "width": 420,
              "height": 420
            }
          }
        }
      ]
    },
    {
      "cell_type": "code",
      "source": [
        "#get the district count by status\n",
        "status_district_count <- ebola_sierra %>%\n",
        "  tabyl(district, status) %>%\n",
        "  adorn_totals(\"row\") %>%\n",
        "  adorn_percentages(\"all\") %>%\n",
        "  adorn_pct_formatting(digit = 0) %>%\n",
        "  adorn_ns(position = \"front\")\n",
        "\n",
        "  status_district_count\n"
      ],
      "metadata": {
        "colab": {
          "base_uri": "https://localhost:8080/",
          "height": 349
        },
        "id": "m7jOFBy0idVF",
        "outputId": "33c85f85-96a4-41e1-a09e-4e219d45fdea"
      },
      "execution_count": null,
      "outputs": [
        {
          "output_type": "display_data",
          "data": {
            "text/html": [
              "<table class=\"dataframe\">\n",
              "<caption>A tabyl: 8 × 3</caption>\n",
              "<thead>\n",
              "\t<tr><th></th><th scope=col>district</th><th scope=col>confirmed</th><th scope=col>suspected</th></tr>\n",
              "\t<tr><th></th><th scope=col>&lt;chr&gt;</th><th scope=col>&lt;chr&gt;</th><th scope=col>&lt;chr&gt;</th></tr>\n",
              "</thead>\n",
              "<tbody>\n",
              "\t<tr><th scope=row>1</th><td>Bo           </td><td>2  (1%)  </td><td>0 (0%) </td></tr>\n",
              "\t<tr><th scope=row>2</th><td>Kailahun     </td><td>143 (72%)</td><td>12 (6%)</td></tr>\n",
              "\t<tr><th scope=row>3</th><td>Kambia       </td><td>1  (0%)  </td><td>0 (0%) </td></tr>\n",
              "\t<tr><th scope=row>4</th><td>Kenema       </td><td>32 (16%) </td><td>2 (1%) </td></tr>\n",
              "\t<tr><th scope=row>5</th><td>Kono         </td><td>2  (1%)  </td><td>0 (0%) </td></tr>\n",
              "\t<tr><th scope=row>6</th><td>Port Loko    </td><td>2  (1%)  </td><td>0 (0%) </td></tr>\n",
              "\t<tr><th scope=row>7</th><td>Western Urban</td><td>0  (0%)  </td><td>4 (2%) </td></tr>\n",
              "\t<tr><th scope=row>8</th><td>Total        </td><td>182 (91%)</td><td>18 (9%)</td></tr>\n",
              "</tbody>\n",
              "</table>\n"
            ],
            "text/markdown": "\nA tabyl: 8 × 3\n\n| <!--/--> | district &lt;chr&gt; | confirmed &lt;chr&gt; | suspected &lt;chr&gt; |\n|---|---|---|---|\n| 1 | Bo            | 2  (1%)   | 0 (0%)  |\n| 2 | Kailahun      | 143 (72%) | 12 (6%) |\n| 3 | Kambia        | 1  (0%)   | 0 (0%)  |\n| 4 | Kenema        | 32 (16%)  | 2 (1%)  |\n| 5 | Kono          | 2  (1%)   | 0 (0%)  |\n| 6 | Port Loko     | 2  (1%)   | 0 (0%)  |\n| 7 | Western Urban | 0  (0%)   | 4 (2%)  |\n| 8 | Total         | 182 (91%) | 18 (9%) |\n\n",
            "text/latex": "A tabyl: 8 × 3\n\\begin{tabular}{r|lll}\n  & district & confirmed & suspected\\\\\n  & <chr> & <chr> & <chr>\\\\\n\\hline\n\t1 & Bo            & 2  (1\\%)   & 0 (0\\%) \\\\\n\t2 & Kailahun      & 143 (72\\%) & 12 (6\\%)\\\\\n\t3 & Kambia        & 1  (0\\%)   & 0 (0\\%) \\\\\n\t4 & Kenema        & 32 (16\\%)  & 2 (1\\%) \\\\\n\t5 & Kono          & 2  (1\\%)   & 0 (0\\%) \\\\\n\t6 & Port Loko     & 2  (1\\%)   & 0 (0\\%) \\\\\n\t7 & Western Urban & 0  (0\\%)   & 4 (2\\%) \\\\\n\t8 & Total         & 182 (91\\%) & 18 (9\\%)\\\\\n\\end{tabular}\n",
            "text/plain": [
              "  district      confirmed suspected\n",
              "1 Bo            2  (1%)   0 (0%)   \n",
              "2 Kailahun      143 (72%) 12 (6%)  \n",
              "3 Kambia        1  (0%)   0 (0%)   \n",
              "4 Kenema        32 (16%)  2 (1%)   \n",
              "5 Kono          2  (1%)   0 (0%)   \n",
              "6 Port Loko     2  (1%)   0 (0%)   \n",
              "7 Western Urban 0  (0%)   4 (2%)   \n",
              "8 Total         182 (91%) 18 (9%)  "
            ]
          },
          "metadata": {}
        }
      ]
    },
    {
      "cell_type": "code",
      "source": [
        "  #export the district count by status table for report\n",
        "#  write.csv(status_district_count, \"Reports/status_district_count.csv\",\n",
        " #           row.names = F)\n"
      ],
      "metadata": {
        "id": "Pc2mHOTGij7b"
      },
      "execution_count": null,
      "outputs": []
    },
    {
      "cell_type": "code",
      "source": [
        "  # Plot showing the cases by district by status\n",
        "  ggplot(data = ebola_sierra, aes(x = district, fill = factor(status))) +\n",
        "    geom_bar() +\n",
        "    theme_classic() +\n",
        "    labs(title = \"Ebola Cases by District\", fill = \"Status\")+\n",
        "    theme(axis.text.x = element_text(angle = 45,\n",
        "                                     hjust = 1))\n",
        "\n"
      ],
      "metadata": {
        "colab": {
          "base_uri": "https://localhost:8080/",
          "height": 437
        },
        "id": "bZFGUYzhiqQm",
        "outputId": "5a7ddbbd-fd09-42bf-b7e0-164dfd9d481a"
      },
      "execution_count": null,
      "outputs": [
        {
          "output_type": "display_data",
          "data": {
            "text/plain": [
              "plot without title"
            ],
            "image/png": "[encoded data removed]"
          },
          "metadata": {
            "image/png": {
              "width": 420,
              "height": 420
            }
          }
        }
      ]
    },
    {
      "cell_type": "code",
      "source": [
        "  #get the district by status and sex count\n",
        "  distr.status.sex_count <- ebola_sierra %>%\n",
        "    tabyl(sex, status, district)\n",
        "  distr.status.sex_count\n"
      ],
      "metadata": {
        "colab": {
          "base_uri": "https://localhost:8080/",
          "height": 1000
        },
        "id": "8pVk4W8Kixb9",
        "outputId": "f622214d-fb88-44cc-8b6e-3d5d4bcf9a5e"
      },
      "execution_count": null,
      "outputs": [
        {
          "output_type": "display_data",
          "data": {
            "text/html": [
              "<dl>\n",
              "\t<dt>$Bo</dt>\n",
              "\t\t<dd><table class=\"dataframe\">\n",
              "<caption>A tabyl: 2 × 3</caption>\n",
              "<thead>\n",
              "\t<tr><th scope=col>sex</th><th scope=col>confirmed</th><th scope=col>suspected</th></tr>\n",
              "\t<tr><th scope=col>&lt;chr&gt;</th><th scope=col>&lt;dbl&gt;</th><th scope=col>&lt;dbl&gt;</th></tr>\n",
              "</thead>\n",
              "<tbody>\n",
              "\t<tr><td>F</td><td>0</td><td>0</td></tr>\n",
              "\t<tr><td>M</td><td>2</td><td>0</td></tr>\n",
              "</tbody>\n",
              "</table>\n",
              "</dd>\n",
              "\t<dt>$Kailahun</dt>\n",
              "\t\t<dd><table class=\"dataframe\">\n",
              "<caption>A tabyl: 2 × 3</caption>\n",
              "<thead>\n",
              "\t<tr><th scope=col>sex</th><th scope=col>confirmed</th><th scope=col>suspected</th></tr>\n",
              "\t<tr><th scope=col>&lt;chr&gt;</th><th scope=col>&lt;dbl&gt;</th><th scope=col>&lt;dbl&gt;</th></tr>\n",
              "</thead>\n",
              "<tbody>\n",
              "\t<tr><td>F</td><td>82</td><td>9</td></tr>\n",
              "\t<tr><td>M</td><td>61</td><td>3</td></tr>\n",
              "</tbody>\n",
              "</table>\n",
              "</dd>\n",
              "\t<dt>$Kambia</dt>\n",
              "\t\t<dd><table class=\"dataframe\">\n",
              "<caption>A tabyl: 2 × 3</caption>\n",
              "<thead>\n",
              "\t<tr><th scope=col>sex</th><th scope=col>confirmed</th><th scope=col>suspected</th></tr>\n",
              "\t<tr><th scope=col>&lt;chr&gt;</th><th scope=col>&lt;dbl&gt;</th><th scope=col>&lt;dbl&gt;</th></tr>\n",
              "</thead>\n",
              "<tbody>\n",
              "\t<tr><td>F</td><td>0</td><td>0</td></tr>\n",
              "\t<tr><td>M</td><td>1</td><td>0</td></tr>\n",
              "</tbody>\n",
              "</table>\n",
              "</dd>\n",
              "\t<dt>$Kenema</dt>\n",
              "\t\t<dd><table class=\"dataframe\">\n",
              "<caption>A tabyl: 2 × 3</caption>\n",
              "<thead>\n",
              "\t<tr><th scope=col>sex</th><th scope=col>confirmed</th><th scope=col>suspected</th></tr>\n",
              "\t<tr><th scope=col>&lt;chr&gt;</th><th scope=col>&lt;dbl&gt;</th><th scope=col>&lt;dbl&gt;</th></tr>\n",
              "</thead>\n",
              "<tbody>\n",
              "\t<tr><td>F</td><td>19</td><td>1</td></tr>\n",
              "\t<tr><td>M</td><td>13</td><td>1</td></tr>\n",
              "</tbody>\n",
              "</table>\n",
              "</dd>\n",
              "\t<dt>$Kono</dt>\n",
              "\t\t<dd><table class=\"dataframe\">\n",
              "<caption>A tabyl: 2 × 3</caption>\n",
              "<thead>\n",
              "\t<tr><th scope=col>sex</th><th scope=col>confirmed</th><th scope=col>suspected</th></tr>\n",
              "\t<tr><th scope=col>&lt;chr&gt;</th><th scope=col>&lt;dbl&gt;</th><th scope=col>&lt;dbl&gt;</th></tr>\n",
              "</thead>\n",
              "<tbody>\n",
              "\t<tr><td>F</td><td>0</td><td>0</td></tr>\n",
              "\t<tr><td>M</td><td>2</td><td>0</td></tr>\n",
              "</tbody>\n",
              "</table>\n",
              "</dd>\n",
              "\t<dt>$`Port Loko`</dt>\n",
              "\t\t<dd><table class=\"dataframe\">\n",
              "<caption>A tabyl: 2 × 3</caption>\n",
              "<thead>\n",
              "\t<tr><th scope=col>sex</th><th scope=col>confirmed</th><th scope=col>suspected</th></tr>\n",
              "\t<tr><th scope=col>&lt;chr&gt;</th><th scope=col>&lt;dbl&gt;</th><th scope=col>&lt;dbl&gt;</th></tr>\n",
              "</thead>\n",
              "<tbody>\n",
              "\t<tr><td>F</td><td>1</td><td>0</td></tr>\n",
              "\t<tr><td>M</td><td>1</td><td>0</td></tr>\n",
              "</tbody>\n",
              "</table>\n",
              "</dd>\n",
              "\t<dt>$`Western Urban`</dt>\n",
              "\t\t<dd><table class=\"dataframe\">\n",
              "<caption>A tabyl: 2 × 3</caption>\n",
              "<thead>\n",
              "\t<tr><th scope=col>sex</th><th scope=col>confirmed</th><th scope=col>suspected</th></tr>\n",
              "\t<tr><th scope=col>&lt;chr&gt;</th><th scope=col>&lt;dbl&gt;</th><th scope=col>&lt;dbl&gt;</th></tr>\n",
              "</thead>\n",
              "<tbody>\n",
              "\t<tr><td>F</td><td>0</td><td>2</td></tr>\n",
              "\t<tr><td>M</td><td>0</td><td>2</td></tr>\n",
              "</tbody>\n",
              "</table>\n",
              "</dd>\n",
              "</dl>\n"
            ],
            "text/markdown": "$Bo\n:   \nA tabyl: 2 × 3\n\n| sex &lt;chr&gt; | confirmed &lt;dbl&gt; | suspected &lt;dbl&gt; |\n|---|---|---|\n| F | 0 | 0 |\n| M | 2 | 0 |\n\n\n$Kailahun\n:   \nA tabyl: 2 × 3\n\n| sex &lt;chr&gt; | confirmed &lt;dbl&gt; | suspected &lt;dbl&gt; |\n|---|---|---|\n| F | 82 | 9 |\n| M | 61 | 3 |\n\n\n$Kambia\n:   \nA tabyl: 2 × 3\n\n| sex &lt;chr&gt; | confirmed &lt;dbl&gt; | suspected &lt;dbl&gt; |\n|---|---|---|\n| F | 0 | 0 |\n| M | 1 | 0 |\n\n\n$Kenema\n:   \nA tabyl: 2 × 3\n\n| sex &lt;chr&gt; | confirmed &lt;dbl&gt; | suspected &lt;dbl&gt; |\n|---|---|---|\n| F | 19 | 1 |\n| M | 13 | 1 |\n\n\n$Kono\n:   \nA tabyl: 2 × 3\n\n| sex &lt;chr&gt; | confirmed &lt;dbl&gt; | suspected &lt;dbl&gt; |\n|---|---|---|\n| F | 0 | 0 |\n| M | 2 | 0 |\n\n\n$`Port Loko`\n:   \nA tabyl: 2 × 3\n\n| sex &lt;chr&gt; | confirmed &lt;dbl&gt; | suspected &lt;dbl&gt; |\n|---|---|---|\n| F | 1 | 0 |\n| M | 1 | 0 |\n\n\n$`Western Urban`\n:   \nA tabyl: 2 × 3\n\n| sex &lt;chr&gt; | confirmed &lt;dbl&gt; | suspected &lt;dbl&gt; |\n|---|---|---|\n| F | 0 | 2 |\n| M | 0 | 2 |\n\n\n\n\n",
            "text/latex": "\\begin{description}\n\\item[\\$Bo] A tabyl: 2 × 3\n\\begin{tabular}{lll}\n sex & confirmed & suspected\\\\\n <chr> & <dbl> & <dbl>\\\\\n\\hline\n\t F & 0 & 0\\\\\n\t M & 2 & 0\\\\\n\\end{tabular}\n\n\\item[\\$Kailahun] A tabyl: 2 × 3\n\\begin{tabular}{lll}\n sex & confirmed & suspected\\\\\n <chr> & <dbl> & <dbl>\\\\\n\\hline\n\t F & 82 & 9\\\\\n\t M & 61 & 3\\\\\n\\end{tabular}\n\n\\item[\\$Kambia] A tabyl: 2 × 3\n\\begin{tabular}{lll}\n sex & confirmed & suspected\\\\\n <chr> & <dbl> & <dbl>\\\\\n\\hline\n\t F & 0 & 0\\\\\n\t M & 1 & 0\\\\\n\\end{tabular}\n\n\\item[\\$Kenema] A tabyl: 2 × 3\n\\begin{tabular}{lll}\n sex & confirmed & suspected\\\\\n <chr> & <dbl> & <dbl>\\\\\n\\hline\n\t F & 19 & 1\\\\\n\t M & 13 & 1\\\\\n\\end{tabular}\n\n\\item[\\$Kono] A tabyl: 2 × 3\n\\begin{tabular}{lll}\n sex & confirmed & suspected\\\\\n <chr> & <dbl> & <dbl>\\\\\n\\hline\n\t F & 0 & 0\\\\\n\t M & 2 & 0\\\\\n\\end{tabular}\n\n\\item[\\$`Port Loko`] A tabyl: 2 × 3\n\\begin{tabular}{lll}\n sex & confirmed & suspected\\\\\n <chr> & <dbl> & <dbl>\\\\\n\\hline\n\t F & 1 & 0\\\\\n\t M & 1 & 0\\\\\n\\end{tabular}\n\n\\item[\\$`Western Urban`] A tabyl: 2 × 3\n\\begin{tabular}{lll}\n sex & confirmed & suspected\\\\\n <chr> & <dbl> & <dbl>\\\\\n\\hline\n\t F & 0 & 2\\\\\n\t M & 0 & 2\\\\\n\\end{tabular}\n\n\\end{description}\n",
            "text/plain": [
              "$Bo\n",
              " sex confirmed suspected\n",
              "   F         0         0\n",
              "   M         2         0\n",
              "\n",
              "$Kailahun\n",
              " sex confirmed suspected\n",
              "   F        82         9\n",
              "   M        61         3\n",
              "\n",
              "$Kambia\n",
              " sex confirmed suspected\n",
              "   F         0         0\n",
              "   M         1         0\n",
              "\n",
              "$Kenema\n",
              " sex confirmed suspected\n",
              "   F        19         1\n",
              "   M        13         1\n",
              "\n",
              "$Kono\n",
              " sex confirmed suspected\n",
              "   F         0         0\n",
              "   M         2         0\n",
              "\n",
              "$`Port Loko`\n",
              " sex confirmed suspected\n",
              "   F         1         0\n",
              "   M         1         0\n",
              "\n",
              "$`Western Urban`\n",
              " sex confirmed suspected\n",
              "   F         0         2\n",
              "   M         0         2\n"
            ]
          },
          "metadata": {}
        }
      ]
    },
    {
      "cell_type": "code",
      "source": [
        "  #convert the list(distr.status.sex_count) to a data frame to combine into one dataframe\n",
        "  combined_df <- bind_rows(\n",
        "    lapply(names(distr.status.sex_count), function(district) {\n",
        "      df <- distr.status.sex_count[[district]]\n",
        "      df$district <- district\n",
        "      df\n",
        "    })\n",
        "  )\n",
        "combined_df"
      ],
      "metadata": {
        "colab": {
          "base_uri": "https://localhost:8080/",
          "height": 537
        },
        "id": "rRylKQ1Wi7lI",
        "outputId": "8be68454-2123-43a2-da87-fb50560718ff"
      },
      "execution_count": null,
      "outputs": [
        {
          "output_type": "display_data",
          "data": {
            "text/html": [
              "<table class=\"dataframe\">\n",
              "<caption>A tabyl: 14 × 4</caption>\n",
              "<thead>\n",
              "\t<tr><th scope=col>sex</th><th scope=col>confirmed</th><th scope=col>suspected</th><th scope=col>district</th></tr>\n",
              "\t<tr><th scope=col>&lt;chr&gt;</th><th scope=col>&lt;dbl&gt;</th><th scope=col>&lt;dbl&gt;</th><th scope=col>&lt;chr&gt;</th></tr>\n",
              "</thead>\n",
              "<tbody>\n",
              "\t<tr><td>F</td><td> 0</td><td>0</td><td>Bo           </td></tr>\n",
              "\t<tr><td>M</td><td> 2</td><td>0</td><td>Bo           </td></tr>\n",
              "\t<tr><td>F</td><td>82</td><td>9</td><td>Kailahun     </td></tr>\n",
              "\t<tr><td>M</td><td>61</td><td>3</td><td>Kailahun     </td></tr>\n",
              "\t<tr><td>F</td><td> 0</td><td>0</td><td>Kambia       </td></tr>\n",
              "\t<tr><td>M</td><td> 1</td><td>0</td><td>Kambia       </td></tr>\n",
              "\t<tr><td>F</td><td>19</td><td>1</td><td>Kenema       </td></tr>\n",
              "\t<tr><td>M</td><td>13</td><td>1</td><td>Kenema       </td></tr>\n",
              "\t<tr><td>F</td><td> 0</td><td>0</td><td>Kono         </td></tr>\n",
              "\t<tr><td>M</td><td> 2</td><td>0</td><td>Kono         </td></tr>\n",
              "\t<tr><td>F</td><td> 1</td><td>0</td><td>Port Loko    </td></tr>\n",
              "\t<tr><td>M</td><td> 1</td><td>0</td><td>Port Loko    </td></tr>\n",
              "\t<tr><td>F</td><td> 0</td><td>2</td><td>Western Urban</td></tr>\n",
              "\t<tr><td>M</td><td> 0</td><td>2</td><td>Western Urban</td></tr>\n",
              "</tbody>\n",
              "</table>\n"
            ],
            "text/markdown": "\nA tabyl: 14 × 4\n\n| sex &lt;chr&gt; | confirmed &lt;dbl&gt; | suspected &lt;dbl&gt; | district &lt;chr&gt; |\n|---|---|---|---|\n| F |  0 | 0 | Bo            |\n| M |  2 | 0 | Bo            |\n| F | 82 | 9 | Kailahun      |\n| M | 61 | 3 | Kailahun      |\n| F |  0 | 0 | Kambia        |\n| M |  1 | 0 | Kambia        |\n| F | 19 | 1 | Kenema        |\n| M | 13 | 1 | Kenema        |\n| F |  0 | 0 | Kono          |\n| M |  2 | 0 | Kono          |\n| F |  1 | 0 | Port Loko     |\n| M |  1 | 0 | Port Loko     |\n| F |  0 | 2 | Western Urban |\n| M |  0 | 2 | Western Urban |\n\n",
            "text/latex": "A tabyl: 14 × 4\n\\begin{tabular}{llll}\n sex & confirmed & suspected & district\\\\\n <chr> & <dbl> & <dbl> & <chr>\\\\\n\\hline\n\t F &  0 & 0 & Bo           \\\\\n\t M &  2 & 0 & Bo           \\\\\n\t F & 82 & 9 & Kailahun     \\\\\n\t M & 61 & 3 & Kailahun     \\\\\n\t F &  0 & 0 & Kambia       \\\\\n\t M &  1 & 0 & Kambia       \\\\\n\t F & 19 & 1 & Kenema       \\\\\n\t M & 13 & 1 & Kenema       \\\\\n\t F &  0 & 0 & Kono         \\\\\n\t M &  2 & 0 & Kono         \\\\\n\t F &  1 & 0 & Port Loko    \\\\\n\t M &  1 & 0 & Port Loko    \\\\\n\t F &  0 & 2 & Western Urban\\\\\n\t M &  0 & 2 & Western Urban\\\\\n\\end{tabular}\n",
            "text/plain": [
              "   sex confirmed suspected district     \n",
              "1  F    0        0         Bo           \n",
              "2  M    2        0         Bo           \n",
              "3  F   82        9         Kailahun     \n",
              "4  M   61        3         Kailahun     \n",
              "5  F    0        0         Kambia       \n",
              "6  M    1        0         Kambia       \n",
              "7  F   19        1         Kenema       \n",
              "8  M   13        1         Kenema       \n",
              "9  F    0        0         Kono         \n",
              "10 M    2        0         Kono         \n",
              "11 F    1        0         Port Loko    \n",
              "12 M    1        0         Port Loko    \n",
              "13 F    0        2         Western Urban\n",
              "14 M    0        2         Western Urban"
            ]
          },
          "metadata": {}
        }
      ]
    },
    {
      "cell_type": "code",
      "source": [
        "# reshape the data into long format\n",
        "    combined_long_df <- pivot_longer(combined_df, cols = -c(sex, district),\n",
        "                                   names_to = \"status\", values_to = \"count\")\n",
        "  combined_long_df\n"
      ],
      "metadata": {
        "colab": {
          "base_uri": "https://localhost:8080/",
          "height": 976
        },
        "id": "MLfXVKrGjLUq",
        "outputId": "60de0133-9e99-4ae4-951f-326c248c4bf2"
      },
      "execution_count": null,
      "outputs": [
        {
          "output_type": "display_data",
          "data": {
            "text/html": [
              "<table class=\"dataframe\">\n",
              "<caption>A tibble: 28 × 4</caption>\n",
              "<thead>\n",
              "\t<tr><th scope=col>sex</th><th scope=col>district</th><th scope=col>status</th><th scope=col>count</th></tr>\n",
              "\t<tr><th scope=col>&lt;chr&gt;</th><th scope=col>&lt;chr&gt;</th><th scope=col>&lt;chr&gt;</th><th scope=col>&lt;dbl&gt;</th></tr>\n",
              "</thead>\n",
              "<tbody>\n",
              "\t<tr><td>F</td><td>Bo           </td><td>confirmed</td><td> 0</td></tr>\n",
              "\t<tr><td>F</td><td>Bo           </td><td>suspected</td><td> 0</td></tr>\n",
              "\t<tr><td>M</td><td>Bo           </td><td>confirmed</td><td> 2</td></tr>\n",
              "\t<tr><td>M</td><td>Bo           </td><td>suspected</td><td> 0</td></tr>\n",
              "\t<tr><td>F</td><td>Kailahun     </td><td>confirmed</td><td>82</td></tr>\n",
              "\t<tr><td>F</td><td>Kailahun     </td><td>suspected</td><td> 9</td></tr>\n",
              "\t<tr><td>M</td><td>Kailahun     </td><td>confirmed</td><td>61</td></tr>\n",
              "\t<tr><td>M</td><td>Kailahun     </td><td>suspected</td><td> 3</td></tr>\n",
              "\t<tr><td>F</td><td>Kambia       </td><td>confirmed</td><td> 0</td></tr>\n",
              "\t<tr><td>F</td><td>Kambia       </td><td>suspected</td><td> 0</td></tr>\n",
              "\t<tr><td>M</td><td>Kambia       </td><td>confirmed</td><td> 1</td></tr>\n",
              "\t<tr><td>M</td><td>Kambia       </td><td>suspected</td><td> 0</td></tr>\n",
              "\t<tr><td>F</td><td>Kenema       </td><td>confirmed</td><td>19</td></tr>\n",
              "\t<tr><td>F</td><td>Kenema       </td><td>suspected</td><td> 1</td></tr>\n",
              "\t<tr><td>M</td><td>Kenema       </td><td>confirmed</td><td>13</td></tr>\n",
              "\t<tr><td>M</td><td>Kenema       </td><td>suspected</td><td> 1</td></tr>\n",
              "\t<tr><td>F</td><td>Kono         </td><td>confirmed</td><td> 0</td></tr>\n",
              "\t<tr><td>F</td><td>Kono         </td><td>suspected</td><td> 0</td></tr>\n",
              "\t<tr><td>M</td><td>Kono         </td><td>confirmed</td><td> 2</td></tr>\n",
              "\t<tr><td>M</td><td>Kono         </td><td>suspected</td><td> 0</td></tr>\n",
              "\t<tr><td>F</td><td>Port Loko    </td><td>confirmed</td><td> 1</td></tr>\n",
              "\t<tr><td>F</td><td>Port Loko    </td><td>suspected</td><td> 0</td></tr>\n",
              "\t<tr><td>M</td><td>Port Loko    </td><td>confirmed</td><td> 1</td></tr>\n",
              "\t<tr><td>M</td><td>Port Loko    </td><td>suspected</td><td> 0</td></tr>\n",
              "\t<tr><td>F</td><td>Western Urban</td><td>confirmed</td><td> 0</td></tr>\n",
              "\t<tr><td>F</td><td>Western Urban</td><td>suspected</td><td> 2</td></tr>\n",
              "\t<tr><td>M</td><td>Western Urban</td><td>confirmed</td><td> 0</td></tr>\n",
              "\t<tr><td>M</td><td>Western Urban</td><td>suspected</td><td> 2</td></tr>\n",
              "</tbody>\n",
              "</table>\n"
            ],
            "text/markdown": "\nA tibble: 28 × 4\n\n| sex &lt;chr&gt; | district &lt;chr&gt; | status &lt;chr&gt; | count &lt;dbl&gt; |\n|---|---|---|---|\n| F | Bo            | confirmed |  0 |\n| F | Bo            | suspected |  0 |\n| M | Bo            | confirmed |  2 |\n| M | Bo            | suspected |  0 |\n| F | Kailahun      | confirmed | 82 |\n| F | Kailahun      | suspected |  9 |\n| M | Kailahun      | confirmed | 61 |\n| M | Kailahun      | suspected |  3 |\n| F | Kambia        | confirmed |  0 |\n| F | Kambia        | suspected |  0 |\n| M | Kambia        | confirmed |  1 |\n| M | Kambia        | suspected |  0 |\n| F | Kenema        | confirmed | 19 |\n| F | Kenema        | suspected |  1 |\n| M | Kenema        | confirmed | 13 |\n| M | Kenema        | suspected |  1 |\n| F | Kono          | confirmed |  0 |\n| F | Kono          | suspected |  0 |\n| M | Kono          | confirmed |  2 |\n| M | Kono          | suspected |  0 |\n| F | Port Loko     | confirmed |  1 |\n| F | Port Loko     | suspected |  0 |\n| M | Port Loko     | confirmed |  1 |\n| M | Port Loko     | suspected |  0 |\n| F | Western Urban | confirmed |  0 |\n| F | Western Urban | suspected |  2 |\n| M | Western Urban | confirmed |  0 |\n| M | Western Urban | suspected |  2 |\n\n",
            "text/latex": "A tibble: 28 × 4\n\\begin{tabular}{llll}\n sex & district & status & count\\\\\n <chr> & <chr> & <chr> & <dbl>\\\\\n\\hline\n\t F & Bo            & confirmed &  0\\\\\n\t F & Bo            & suspected &  0\\\\\n\t M & Bo            & confirmed &  2\\\\\n\t M & Bo            & suspected &  0\\\\\n\t F & Kailahun      & confirmed & 82\\\\\n\t F & Kailahun      & suspected &  9\\\\\n\t M & Kailahun      & confirmed & 61\\\\\n\t M & Kailahun      & suspected &  3\\\\\n\t F & Kambia        & confirmed &  0\\\\\n\t F & Kambia        & suspected &  0\\\\\n\t M & Kambia        & confirmed &  1\\\\\n\t M & Kambia        & suspected &  0\\\\\n\t F & Kenema        & confirmed & 19\\\\\n\t F & Kenema        & suspected &  1\\\\\n\t M & Kenema        & confirmed & 13\\\\\n\t M & Kenema        & suspected &  1\\\\\n\t F & Kono          & confirmed &  0\\\\\n\t F & Kono          & suspected &  0\\\\\n\t M & Kono          & confirmed &  2\\\\\n\t M & Kono          & suspected &  0\\\\\n\t F & Port Loko     & confirmed &  1\\\\\n\t F & Port Loko     & suspected &  0\\\\\n\t M & Port Loko     & confirmed &  1\\\\\n\t M & Port Loko     & suspected &  0\\\\\n\t F & Western Urban & confirmed &  0\\\\\n\t F & Western Urban & suspected &  2\\\\\n\t M & Western Urban & confirmed &  0\\\\\n\t M & Western Urban & suspected &  2\\\\\n\\end{tabular}\n",
            "text/plain": [
              "   sex district      status    count\n",
              "1  F   Bo            confirmed  0   \n",
              "2  F   Bo            suspected  0   \n",
              "3  M   Bo            confirmed  2   \n",
              "4  M   Bo            suspected  0   \n",
              "5  F   Kailahun      confirmed 82   \n",
              "6  F   Kailahun      suspected  9   \n",
              "7  M   Kailahun      confirmed 61   \n",
              "8  M   Kailahun      suspected  3   \n",
              "9  F   Kambia        confirmed  0   \n",
              "10 F   Kambia        suspected  0   \n",
              "11 M   Kambia        confirmed  1   \n",
              "12 M   Kambia        suspected  0   \n",
              "13 F   Kenema        confirmed 19   \n",
              "14 F   Kenema        suspected  1   \n",
              "15 M   Kenema        confirmed 13   \n",
              "16 M   Kenema        suspected  1   \n",
              "17 F   Kono          confirmed  0   \n",
              "18 F   Kono          suspected  0   \n",
              "19 M   Kono          confirmed  2   \n",
              "20 M   Kono          suspected  0   \n",
              "21 F   Port Loko     confirmed  1   \n",
              "22 F   Port Loko     suspected  0   \n",
              "23 M   Port Loko     confirmed  1   \n",
              "24 M   Port Loko     suspected  0   \n",
              "25 F   Western Urban confirmed  0   \n",
              "26 F   Western Urban suspected  2   \n",
              "27 M   Western Urban confirmed  0   \n",
              "28 M   Western Urban suspected  2   "
            ]
          },
          "metadata": {}
        }
      ]
    },
    {
      "cell_type": "code",
      "source": [
        "#plot the graph of district by sex and status\n",
        "\n",
        "   ggplot(combined_long_df, aes(x = district, y = count, fill = status)) +\n",
        "    geom_bar(stat = \"identity\", position = \"dodge\") +\n",
        "    facet_wrap(~ sex) +\n",
        "    labs(title = \"Distribution of Status by District and Sex\",\n",
        "         x = \"District\",\n",
        "         y = \"Count\",\n",
        "         fill = \"Status\") +\n",
        "    theme_classic() +\n",
        "    theme(axis.text.x = element_text(angle = 45, hjust = 1))\n"
      ],
      "metadata": {
        "colab": {
          "base_uri": "https://localhost:8080/",
          "height": 437
        },
        "id": "MRz9IarAjUhd",
        "outputId": "fc1b48ad-6987-4165-c6c5-d7f78c75e909"
      },
      "execution_count": null,
      "outputs": [
        {
          "output_type": "display_data",
          "data": {
            "text/plain": [
              "plot without title"
            ],
            "image/png": "[encoded data removed]"
          },
          "metadata": {
            "image/png": {
              "width": 420,
              "height": 420
            }
          }
        }
      ]
    },
    {
      "cell_type": "markdown",
      "source": [
        "To see the full report, see the full documentation here [documentation](https://docs.google.com/document/d/16veW9cZ4DXMrgYiF8yJ5S-IxQjnWju4a/edit?usp=sharing&ouid=113427329119267129856&rtpof=true&sd=true)"
      ],
      "metadata": {
        "id": "Qim0QRApizDU"
      }
    }
  ]
}