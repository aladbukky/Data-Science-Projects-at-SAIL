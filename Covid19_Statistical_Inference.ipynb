{
  "nbformat": 4,
  "nbformat_minor": 0,
  "metadata": {
    "colab": {
      "provenance": [],
      "authorship_tag": "ABX9TyOxPyX3u/PNMyEvjmFKDJ/U",
      "include_colab_link": true
    },
    "kernelspec": {
      "name": "ir",
      "display_name": "R"
    },
    "language_info": {
      "name": "R"
    }
  },
  "cells": [
    {
      "cell_type": "markdown",
      "metadata": {
        "id": "view-in-github",
        "colab_type": "text"
      },
      "source": [
        "<a href=\"https://colab.research.google.com/github/aladbukky/Data-Science-Projects-at-SAIL/blob/main/Covid19_Statistical_Inference.ipynb\" target=\"_parent\"><img src=\"https://colab.research.google.com/assets/colab-badge.svg\" alt=\"Open In Colab\"/></a>"
      ]
    },
    {
      "cell_type": "markdown",
      "source": [
        "# Group Project - Nigeria Covid19 Statistical Inference\n",
        "\n",
        "This group exercise requires the team to the following:\n",
        "\n",
        "Summarize the covid-19 data by regions\n",
        "\n",
        "*   Summarize the covid-19 data by region\n",
        "*   Test each region against others to test if their average death number from\n",
        "    covid-19 is the same.\n",
        "*   Present our tests as Data Scientists"
      ],
      "metadata": {
        "id": "Z0tNEtyKeRy4"
      }
    },
    {
      "cell_type": "code",
      "execution_count": 4,
      "metadata": {
        "colab": {
          "base_uri": "https://localhost:8080/"
        },
        "collapsed": true,
        "id": "cGk5F3ml2TX6",
        "outputId": "19a8354b-14d4-4025-a77e-46cff833b696"
      },
      "outputs": [
        {
          "output_type": "stream",
          "name": "stderr",
          "text": [
            "Installing package into ‘/usr/local/lib/R/site-library’\n",
            "(as ‘lib’ is unspecified)\n",
            "\n",
            "Installing package into ‘/usr/local/lib/R/site-library’\n",
            "(as ‘lib’ is unspecified)\n",
            "\n"
          ]
        }
      ],
      "source": [
        "install.packages(\"tidyverse\")\n",
        "install.packages(\"dplyr\")\n",
        "library(tidyverse)\n",
        "library(ggplot2)\n",
        "library(dplyr)"
      ]
    },
    {
      "cell_type": "code",
      "source": [
        "#load the covid-19 data set\n",
        "#The source data does have the region column. The data was therefore preprocessed to include the regions of each state using excel vlookup function\n",
        "nigeria_states_by_region <- read.csv(\"/content/covid19_nigeria_statesNEW.csv\")\n",
        "head(nigeria_states_by_region, 10)"
      ],
      "metadata": {
        "colab": {
          "base_uri": "https://localhost:8080/",
          "height": 411
        },
        "id": "tYQ-qZEB30Y7",
        "outputId": "71007b9e-fcb0-455c-a63d-11dd4d4b761d"
      },
      "execution_count": 10,
      "outputs": [
        {
          "output_type": "display_data",
          "data": {
            "text/html": [
              "<table class=\"dataframe\">\n",
              "<caption>A data.frame: 10 × 12</caption>\n",
              "<thead>\n",
              "\t<tr><th></th><th scope=col>X</th><th scope=col>states</th><th scope=col>region</th><th scope=col>total_confirmed</th><th scope=col>new_confirmed</th><th scope=col>total_recoveries</th><th scope=col>new_recoveries</th><th scope=col>total_death</th><th scope=col>new_death</th><th scope=col>week</th><th scope=col>day</th><th scope=col>month</th></tr>\n",
              "\t<tr><th></th><th scope=col>&lt;int&gt;</th><th scope=col>&lt;chr&gt;</th><th scope=col>&lt;chr&gt;</th><th scope=col>&lt;int&gt;</th><th scope=col>&lt;int&gt;</th><th scope=col>&lt;int&gt;</th><th scope=col>&lt;int&gt;</th><th scope=col>&lt;int&gt;</th><th scope=col>&lt;int&gt;</th><th scope=col>&lt;chr&gt;</th><th scope=col>&lt;chr&gt;</th><th scope=col>&lt;chr&gt;</th></tr>\n",
              "</thead>\n",
              "<tbody>\n",
              "\t<tr><th scope=row>1</th><td> 1</td><td>Abia       </td><td>South East   </td><td>2121</td><td> 77</td><td>2010</td><td> 8</td><td> 33</td><td>2</td><td>26/12/2021</td><td>Sunday</td><td>December</td></tr>\n",
              "\t<tr><th scope=row>2</th><td> 2</td><td>Adamawa    </td><td>North East   </td><td>1157</td><td>  0</td><td>1098</td><td> 0</td><td> 32</td><td>0</td><td>26/12/2021</td><td>Sunday</td><td>December</td></tr>\n",
              "\t<tr><th scope=row>3</th><td> 3</td><td>Akwa Ibom  </td><td>South South  </td><td>4487</td><td> 59</td><td>4349</td><td>31</td><td> 44</td><td>0</td><td>26/12/2021</td><td>Sunday</td><td>December</td></tr>\n",
              "\t<tr><th scope=row>4</th><td> 4</td><td>Anambra    </td><td>South East   </td><td>2489</td><td> 43</td><td>2405</td><td>19</td><td> 19</td><td>0</td><td>26/12/2021</td><td>Sunday</td><td>December</td></tr>\n",
              "\t<tr><th scope=row>5</th><td> 5</td><td>Bauchi     </td><td>North East   </td><td>1851</td><td> 25</td><td>1791</td><td>15</td><td> 23</td><td>0</td><td>26/12/2021</td><td>Sunday</td><td>December</td></tr>\n",
              "\t<tr><th scope=row>6</th><td> 6</td><td>Bayelsa    </td><td>South South  </td><td>1290</td><td>  4</td><td>1226</td><td>10</td><td> 28</td><td>0</td><td>26/12/2021</td><td>Sunday</td><td>December</td></tr>\n",
              "\t<tr><th scope=row>7</th><td> 7</td><td>Benue      </td><td>North Central</td><td>1907</td><td>  0</td><td>1512</td><td> 0</td><td> 25</td><td>0</td><td>26/12/2021</td><td>Sunday</td><td>December</td></tr>\n",
              "\t<tr><th scope=row>8</th><td> 8</td><td>Borno      </td><td>North East   </td><td>1532</td><td>176</td><td>1317</td><td> 0</td><td> 38</td><td>0</td><td>26/12/2021</td><td>Sunday</td><td>December</td></tr>\n",
              "\t<tr><th scope=row>9</th><td> 9</td><td>Cross River</td><td>South South  </td><td> 696</td><td>  6</td><td> 654</td><td>23</td><td> 25</td><td>0</td><td>26/12/2021</td><td>Sunday</td><td>December</td></tr>\n",
              "\t<tr><th scope=row>10</th><td>10</td><td>Delta      </td><td>South South  </td><td>4705</td><td>144</td><td>2556</td><td> 0</td><td>110</td><td>0</td><td>26/12/2021</td><td>Sunday</td><td>December</td></tr>\n",
              "</tbody>\n",
              "</table>\n"
            ],
            "text/markdown": "\nA data.frame: 10 × 12\n\n| <!--/--> | X &lt;int&gt; | states &lt;chr&gt; | region &lt;chr&gt; | total_confirmed &lt;int&gt; | new_confirmed &lt;int&gt; | total_recoveries &lt;int&gt; | new_recoveries &lt;int&gt; | total_death &lt;int&gt; | new_death &lt;int&gt; | week &lt;chr&gt; | day &lt;chr&gt; | month &lt;chr&gt; |\n|---|---|---|---|---|---|---|---|---|---|---|---|---|\n| 1 |  1 | Abia        | South East    | 2121 |  77 | 2010 |  8 |  33 | 2 | 26/12/2021 | Sunday | December |\n| 2 |  2 | Adamawa     | North East    | 1157 |   0 | 1098 |  0 |  32 | 0 | 26/12/2021 | Sunday | December |\n| 3 |  3 | Akwa Ibom   | South South   | 4487 |  59 | 4349 | 31 |  44 | 0 | 26/12/2021 | Sunday | December |\n| 4 |  4 | Anambra     | South East    | 2489 |  43 | 2405 | 19 |  19 | 0 | 26/12/2021 | Sunday | December |\n| 5 |  5 | Bauchi      | North East    | 1851 |  25 | 1791 | 15 |  23 | 0 | 26/12/2021 | Sunday | December |\n| 6 |  6 | Bayelsa     | South South   | 1290 |   4 | 1226 | 10 |  28 | 0 | 26/12/2021 | Sunday | December |\n| 7 |  7 | Benue       | North Central | 1907 |   0 | 1512 |  0 |  25 | 0 | 26/12/2021 | Sunday | December |\n| 8 |  8 | Borno       | North East    | 1532 | 176 | 1317 |  0 |  38 | 0 | 26/12/2021 | Sunday | December |\n| 9 |  9 | Cross River | South South   |  696 |   6 |  654 | 23 |  25 | 0 | 26/12/2021 | Sunday | December |\n| 10 | 10 | Delta       | South South   | 4705 | 144 | 2556 |  0 | 110 | 0 | 26/12/2021 | Sunday | December |\n\n",
            "text/latex": "A data.frame: 10 × 12\n\\begin{tabular}{r|llllllllllll}\n  & X & states & region & total\\_confirmed & new\\_confirmed & total\\_recoveries & new\\_recoveries & total\\_death & new\\_death & week & day & month\\\\\n  & <int> & <chr> & <chr> & <int> & <int> & <int> & <int> & <int> & <int> & <chr> & <chr> & <chr>\\\\\n\\hline\n\t1 &  1 & Abia        & South East    & 2121 &  77 & 2010 &  8 &  33 & 2 & 26/12/2021 & Sunday & December\\\\\n\t2 &  2 & Adamawa     & North East    & 1157 &   0 & 1098 &  0 &  32 & 0 & 26/12/2021 & Sunday & December\\\\\n\t3 &  3 & Akwa Ibom   & South South   & 4487 &  59 & 4349 & 31 &  44 & 0 & 26/12/2021 & Sunday & December\\\\\n\t4 &  4 & Anambra     & South East    & 2489 &  43 & 2405 & 19 &  19 & 0 & 26/12/2021 & Sunday & December\\\\\n\t5 &  5 & Bauchi      & North East    & 1851 &  25 & 1791 & 15 &  23 & 0 & 26/12/2021 & Sunday & December\\\\\n\t6 &  6 & Bayelsa     & South South   & 1290 &   4 & 1226 & 10 &  28 & 0 & 26/12/2021 & Sunday & December\\\\\n\t7 &  7 & Benue       & North Central & 1907 &   0 & 1512 &  0 &  25 & 0 & 26/12/2021 & Sunday & December\\\\\n\t8 &  8 & Borno       & North East    & 1532 & 176 & 1317 &  0 &  38 & 0 & 26/12/2021 & Sunday & December\\\\\n\t9 &  9 & Cross River & South South   &  696 &   6 &  654 & 23 &  25 & 0 & 26/12/2021 & Sunday & December\\\\\n\t10 & 10 & Delta       & South South   & 4705 & 144 & 2556 &  0 & 110 & 0 & 26/12/2021 & Sunday & December\\\\\n\\end{tabular}\n",
            "text/plain": [
              "   X  states      region        total_confirmed new_confirmed total_recoveries\n",
              "1   1 Abia        South East    2121             77           2010            \n",
              "2   2 Adamawa     North East    1157              0           1098            \n",
              "3   3 Akwa Ibom   South South   4487             59           4349            \n",
              "4   4 Anambra     South East    2489             43           2405            \n",
              "5   5 Bauchi      North East    1851             25           1791            \n",
              "6   6 Bayelsa     South South   1290              4           1226            \n",
              "7   7 Benue       North Central 1907              0           1512            \n",
              "8   8 Borno       North East    1532            176           1317            \n",
              "9   9 Cross River South South    696              6            654            \n",
              "10 10 Delta       South South   4705            144           2556            \n",
              "   new_recoveries total_death new_death week       day    month   \n",
              "1   8              33         2         26/12/2021 Sunday December\n",
              "2   0              32         0         26/12/2021 Sunday December\n",
              "3  31              44         0         26/12/2021 Sunday December\n",
              "4  19              19         0         26/12/2021 Sunday December\n",
              "5  15              23         0         26/12/2021 Sunday December\n",
              "6  10              28         0         26/12/2021 Sunday December\n",
              "7   0              25         0         26/12/2021 Sunday December\n",
              "8   0              38         0         26/12/2021 Sunday December\n",
              "9  23              25         0         26/12/2021 Sunday December\n",
              "10  0             110         0         26/12/2021 Sunday December"
            ]
          },
          "metadata": {}
        }
      ]
    },
    {
      "cell_type": "code",
      "source": [
        "#convert the region column into a factor\n",
        "nigeria_states_by_region$region <- as.factor(nigeria_states_by_region$region)\n"
      ],
      "metadata": {
        "id": "sS06ysJa5cmb"
      },
      "execution_count": 11,
      "outputs": []
    },
    {
      "cell_type": "code",
      "source": [
        "# Perform ANOVA test to compare the average number of deaths across regions\n",
        "anova_result_region <- aov(total_death ~ region, data = nigeria_states_by_region)\n",
        "anova_result_region\n",
        "summary(anova_result_region)"
      ],
      "metadata": {
        "colab": {
          "base_uri": "https://localhost:8080/",
          "height": 294
        },
        "id": "uZkKu7f85jF2",
        "outputId": "6493a6dc-ea0e-4f46-f4d7-12de310e7d26"
      },
      "execution_count": 12,
      "outputs": [
        {
          "output_type": "display_data",
          "data": {
            "text/plain": [
              "Call:\n",
              "   aov(formula = total_death ~ region, data = nigeria_states_by_region)\n",
              "\n",
              "Terms:\n",
              "                  region Residuals\n",
              "Sum of Squares   1784844  16040467\n",
              "Deg. of Freedom        5      4094\n",
              "\n",
              "Residual standard error: 62.59427\n",
              "Estimated effects may be unbalanced"
            ]
          },
          "metadata": {}
        },
        {
          "output_type": "display_data",
          "data": {
            "text/plain": [
              "              Df   Sum Sq Mean Sq F value Pr(>F)    \n",
              "region         5  1784844  356969   91.11 <2e-16 ***\n",
              "Residuals   4094 16040467    3918                   \n",
              "---\n",
              "Signif. codes:  0 ‘***’ 0.001 ‘**’ 0.01 ‘*’ 0.05 ‘.’ 0.1 ‘ ’ 1"
            ]
          },
          "metadata": {}
        }
      ]
    },
    {
      "cell_type": "code",
      "source": [
        "# Perform Tukey HSD post-hoc test\n",
        "tukey_result_region <- TukeyHSD(anova_result_region)\n",
        "tukey_result_region"
      ],
      "metadata": {
        "colab": {
          "base_uri": "https://localhost:8080/",
          "height": 423
        },
        "id": "gaf-yAWV5reV",
        "outputId": "a9b47949-109e-46c4-930d-2d2c2ea46935"
      },
      "execution_count": 13,
      "outputs": [
        {
          "output_type": "display_data",
          "data": {
            "text/plain": [
              "  Tukey multiple comparisons of means\n",
              "    95% family-wise confidence level\n",
              "\n",
              "Fit: aov(formula = total_death ~ region, data = nigeria_states_by_region)\n",
              "\n",
              "$region\n",
              "                                diff        lwr        upr     p adj\n",
              "North East-North Central   -9.527422 -18.703069 -0.3517747 0.0364894\n",
              "North West-North Central   -2.706732 -11.862528  6.4490629 0.9594480\n",
              "South East-North Central  -11.004358 -20.677018 -1.3316968 0.0150863\n",
              "South South-North Central  19.727311  10.535595 28.9190260 0.0000000\n",
              "South West-North Central   49.242540  40.156139 58.3289406 0.0000000\n",
              "North West-North East       6.820689  -2.992132 16.6335112 0.3529755\n",
              "South East-North East      -1.476936 -11.773695  8.8198234 0.9985386\n",
              "South South-North East     29.254732  19.408387 39.1010777 0.0000000\n",
              "South West-North East      58.769962  49.021856 68.5180673 0.0000000\n",
              "South East-North West      -8.297625 -18.576698  1.9814475 0.1935479\n",
              "South South-North West     22.434043  12.606195 32.2618913 0.0000000\n",
              "South West-North West      51.949272  42.219850 61.6786941 0.0000000\n",
              "South South-South East     30.731668  20.420588 41.0427489 0.0000000\n",
              "South West-South East      60.246897  50.029587 70.4642078 0.0000000\n",
              "South West-South South     29.515229  19.751997 39.2784609 0.0000000\n"
            ]
          },
          "metadata": {}
        }
      ]
    },
    {
      "cell_type": "markdown",
      "source": [
        "The result above show the difference of the mean of the deaths by the regions being compared. It also shows the P-value results, that indicates if the difference are statistically significant."
      ],
      "metadata": {
        "id": "dPNCvoMJmtH3"
      }
    },
    {
      "cell_type": "code",
      "source": [
        "# Visualize the total deaths by region\n",
        "region_deaths <- ggplot(nigeria_states_by_region, aes(x = region, y = total_death, fill = region)) +\n",
        "  geom_col() +\n",
        "  labs(title = \"Total Deaths Across the Regions\", x = \"Region\", y = \"Total Deaths\") +\n",
        "  theme_classic() +\n",
        "  theme(\n",
        "    plot.title = element_text(hjust = 0.5, size = 16, face = \"bold\"),\n",
        "    axis.text.x = element_text(angle = 45, hjust = 1, size = 12),\n",
        "    axis.title.x = element_text(size = 14),\n",
        "    axis.title.y = element_text(size = 14),\n",
        "    legend.title = element_text(size = 12, face = \"bold\"),\n",
        "    legend.text = element_text(size = 12)\n",
        "  ) +\n",
        "  scale_fill_brewer(palette = \"Set1\")\n",
        "region_deaths"
      ],
      "metadata": {
        "colab": {
          "base_uri": "https://localhost:8080/",
          "height": 437
        },
        "id": "6UCOgJ6W6bHR",
        "outputId": "59843e2b-72df-4d4f-af43-b6782ecac2a7"
      },
      "execution_count": 18,
      "outputs": [
        {
          "output_type": "display_data",
          "data": {
            "text/plain": [
              "plot without title"
            ],
            "image/png": "[encoded data removed]"
          },
          "metadata": {
            "image/png": {
              "width": 420,
              "height": 420
            }
          }
        }
      ]
    },
    {
      "cell_type": "markdown",
      "source": [
        "As seen from the above plot, the South west has the highest death toll, followed by the South South region.\n",
        "The region with the lowest death toll is South East."
      ],
      "metadata": {
        "id": "tPjdyEV2oDuZ"
      }
    },
    {
      "cell_type": "markdown",
      "source": [
        "#Conclusion\n",
        "\n",
        "Our null hypothesis states that the the average death number from covid19 across the region is the same.\n",
        "Based on the result of the Tukey HSD post-hoc test, the following conclusions can be drawn;\n",
        "\n",
        "1) In comparing these regions;\n",
        "\n",
        "    North East-North Central,\n",
        "    South East-North Central,  \n",
        "    South South-North Central,  \n",
        "    South West-North Central,   \n",
        "    South South-North East,     \n",
        "    South West-North East,      \n",
        "    South South-North West,     \n",
        "    South West-North West,      \n",
        "    South South-South East,     \n",
        "    South West-South East,      \n",
        "    South West-South South,     \n",
        "  At 0.05 significance level, we reject the null hypothesis that the average number of deaths across these regions is the same, meaning there is a significant difference in the average number of deaths between this compared region.  This conclusion is drawn from the fact the the P-value result is lower than 0.05.\n",
        "\n",
        "2) For these regions;\n",
        "\n",
        "    North West-North Central,\n",
        "    North West-North East,\n",
        "    South East-North East and\n",
        "    South East-North West\n",
        "    \n",
        "  We fail to reject the null hypothesis. This implies that there is no statistically significant difference in the average number of deaths from COVID-19 between these compared regions at 0.05 significance level."
      ],
      "metadata": {
        "id": "Bt_NrBxCnGwB"
      }
    }
  ]
}